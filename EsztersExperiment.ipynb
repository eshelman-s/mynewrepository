{
  "nbformat": 4,
  "nbformat_minor": 0,
  "metadata": {
    "colab": {
      "name": "EsztersExperiment.ipynb",
      "provenance": [],
      "collapsed_sections": []
    },
    "kernelspec": {
      "name": "python3",
      "display_name": "Python 3"
    }
  },
  "cells": [
    {
      "cell_type": "code",
      "metadata": {
        "id": "1MDX5KUHqbBy",
        "outputId": "da13d548-a6ba-4ba7-fddb-7580a57dce5a",
        "colab": {
          "base_uri": "https://localhost:8080/",
          "height": 173
        }
      },
      "source": [
        "# Set up session\n",
        "import ee\n",
        "ee.Authenticate()\n",
        "ee.Initialize()"
      ],
      "execution_count": null,
      "outputs": [
        {
          "output_type": "stream",
          "text": [
            "To authorize access needed by Earth Engine, open the following URL in a web browser and follow the instructions. If the web browser does not start automatically, please manually browse the URL below.\n",
            "\n",
            "    https://accounts.google.com/o/oauth2/auth?client_id=517222506229-vsmmajv00ul0bs7p89v5m89qs8eb9359.apps.googleusercontent.com&scope=https%3A%2F%2Fwww.googleapis.com%2Fauth%2Fearthengine+https%3A%2F%2Fwww.googleapis.com%2Fauth%2Fdevstorage.full_control&redirect_uri=urn%3Aietf%3Awg%3Aoauth%3A2.0%3Aoob&response_type=code&code_challenge=sOvInH8ukycWcwML7mx5Iw_T32mzoINsnVy_lFZsR4I&code_challenge_method=S256\n",
            "\n",
            "The authorization workflow will generate a code, which you should paste in the box below. \n",
            "Enter verification code: 4/5QE2X53LnczMKBKTIhFh5BcKKZYVkNFVoJLgQ6qz0xqWycPFHT-Ls5w\n",
            "\n",
            "Successfully saved authorization token.\n"
          ],
          "name": "stdout"
        }
      ]
    },
    {
      "cell_type": "markdown",
      "metadata": {
        "id": "icOFL03sq-Lk"
      },
      "source": [
        "Open some dataset in Hispaniola\n"
      ]
    },
    {
      "cell_type": "code",
      "metadata": {
        "id": "ONQZIGonrEYf"
      },
      "source": [
        "zoomed_out =  ee.Geometry.Polygon(\n",
        "        [[[-74.60668900677238, 20.088333497505946],\n",
        "          [-74.60668900677238, 17.687361057873034],\n",
        "          [-68.11376908489738, 17.687361057873034],\n",
        "          [-68.11376908489738, 20.088333497505946]]])\n",
        "zoomed_in =  ee.Geometry.Polygon(\n",
        "        [[[-71.7976970344606, 19.335441167371748],\n",
        "          [-71.7976970344606, 19.19316176101097],\n",
        "          [-71.60268971024185, 19.19316176101097],\n",
        "          [-71.60268971024185, 19.335441167371748]]])\n",
        "\n",
        "collection = ee.ImageCollection('MODIS/006/MOD44B').filterBounds(zoomed_out)\n",
        "veg2019 = ee.ImageCollection('MODIS/006/MOD44B').filterBounds(zoomed_out).filterDate('2019-01-01', '2019-12-31').first()\n",
        "veg2018 = ee.ImageCollection('MODIS/006/MOD44B').filterBounds(zoomed_out).filterDate('2018-01-01', '2018-12-31').first()\n",
        "veg2000 = ee.ImageCollection('MODIS/006/MOD44B').filterBounds(zoomed_out).filterDate('2000-01-01', '2000-12-31').first()"
      ],
      "execution_count": 43,
      "outputs": []
    },
    {
      "cell_type": "markdown",
      "metadata": {
        "id": "DO0WKtE-riDO"
      },
      "source": [
        "Put all of these on a map (reference)\n"
      ]
    },
    {
      "cell_type": "code",
      "metadata": {
        "id": "0ZREGgKUriVe"
      },
      "source": [
        "import folium\n",
        "!pip install geehydro # Life saver for plotting GEE stuff with Python!\n",
        "import geehydro"
      ],
      "execution_count": null,
      "outputs": []
    },
    {
      "cell_type": "code",
      "metadata": {
        "id": "UrCI8mZ0t9rs"
      },
      "source": [
        "# Use folium to visualize the imagery.\n",
        "map = folium.Map(location = [18.999768, -71.374124], zoom_start=8)\n",
        "map.addLayer(veg2000, {'gain':2},'2000')\n",
        "map.addLayer(veg2019, {'gain':2}, '2019')\n",
        "map.addLayer(veg2018, {'gain':2},'2018')\n",
        "folium.LayerControl().add_to(map)\n",
        "map"
      ],
      "execution_count": null,
      "outputs": []
    },
    {
      "cell_type": "markdown",
      "metadata": {
        "id": "LO4LdZfHzJqS"
      },
      "source": [
        "Try and do the difference between years\n"
      ]
    },
    {
      "cell_type": "code",
      "metadata": {
        "id": "KiA4Y5JqzOPH"
      },
      "source": [
        ""
      ],
      "execution_count": null,
      "outputs": []
    }
  ]
}