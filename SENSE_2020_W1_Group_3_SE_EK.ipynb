{
  "nbformat": 4,
  "nbformat_minor": 0,
  "metadata": {
    "colab": {
      "name": "SENSE_2020_W1_Group 3_SE_EK",
      "provenance": [],
      "collapsed_sections": [],
      "authorship_tag": "ABX9TyNin+DqISL+DhOlz1KEen/A",
      "include_colab_link": true
    },
    "kernelspec": {
      "name": "python3",
      "display_name": "Python 3"
    }
  },
  "cells": [
    {
      "cell_type": "markdown",
      "metadata": {
        "id": "view-in-github",
        "colab_type": "text"
      },
      "source": [
        "<a href=\"https://colab.research.google.com/github/mseenc/mynewrepository/blob/master/SENSE_2020_W1_Group_3_SE_EK.ipynb\" target=\"_parent\"><img src=\"https://colab.research.google.com/assets/colab-badge.svg\" alt=\"Open In Colab\"/></a>"
      ]
    },
    {
      "cell_type": "markdown",
      "metadata": {
        "id": "FCK7lMsVZG4S"
      },
      "source": [
        "# **Project- Group 3**\n",
        "\n",
        "Aim: Look at land use changes by looking at changes in vegetation cover"
      ]
    },
    {
      "cell_type": "markdown",
      "metadata": {
        "id": "qOqlswCoZnQh"
      },
      "source": [
        "Import API and authenticate"
      ]
    },
    {
      "cell_type": "code",
      "metadata": {
        "id": "DRVcGDiPZFdv",
        "outputId": "495cfca2-c3a1-45a7-f943-6cd7835f5e60",
        "colab": {
          "base_uri": "https://localhost:8080/",
          "height": 176
        }
      },
      "source": [
        "import ee\n",
        "# Trigger the authentication flow.\n",
        "ee.Authenticate()\n",
        "\n",
        "# Initialize the library.\n",
        "ee.Initialize()"
      ],
      "execution_count": null,
      "outputs": [
        {
          "output_type": "stream",
          "text": [
            "To authorize access needed by Earth Engine, open the following URL in a web browser and follow the instructions. If the web browser does not start automatically, please manually browse the URL below.\n",
            "\n",
            "    https://accounts.google.com/o/oauth2/auth?client_id=517222506229-vsmmajv00ul0bs7p89v5m89qs8eb9359.apps.googleusercontent.com&scope=https%3A%2F%2Fwww.googleapis.com%2Fauth%2Fearthengine+https%3A%2F%2Fwww.googleapis.com%2Fauth%2Fdevstorage.full_control&redirect_uri=urn%3Aietf%3Awg%3Aoauth%3A2.0%3Aoob&response_type=code&code_challenge=6l1n5NxzpKMG2adujMC7CZdRRt0fq70w9E3QKHyIUhI&code_challenge_method=S256\n",
            "\n",
            "The authorization workflow will generate a code, which you should paste in the box below. \n",
            "Enter verification code: 4/1AfDhmrhHSZgtt8afQhuNPrP8mW1WwFnmbmO7a8u7MtU-vWAxyvidLD6DAKk\n",
            "\n",
            "Successfully saved authorization token.\n"
          ],
          "name": "stdout"
        }
      ]
    },
    {
      "cell_type": "markdown",
      "metadata": {
        "id": "YmCGQzgcqcs1"
      },
      "source": [
        "Load an image\n",
        "\n",
        "*   Set the bounds of the polygons for zoomed in and zoomed out\n",
        "*   filter images by year\n",
        "*   List item\n",
        "\n",
        "\n",
        "\n",
        "\n",
        "\n"
      ]
    },
    {
      "cell_type": "code",
      "metadata": {
        "id": "kKBeRY9V1uLn"
      },
      "source": [
        "zoomed_out =  ee.Geometry.Polygon(\n",
        "        [[[-74.60668900677238, 20.088333497505946],\n",
        "          [-74.60668900677238, 17.687361057873034],\n",
        "          [-68.11376908489738, 17.687361057873034],\n",
        "          [-68.11376908489738, 20.088333497505946]]])\n",
        "zoomed_in =  ee.Geometry.Polygon(\n",
        "        [[[-71.7976970344606, 19.335441167371748],\n",
        "          [-71.7976970344606, 19.19316176101097],\n",
        "          [-71.60268971024185, 19.19316176101097],\n",
        "          [-71.60268971024185, 19.335441167371748]]])\n",
        "\n",
        "collection = ee.ImageCollection('MODIS/006/MOD44B').filterBounds(zoomed_out)\n",
        "veg2019 = ee.ImageCollection('MODIS/006/MOD44B').filterBounds(zoomed_out).filterDate('2019-01-01', '2019-12-31').first()\n",
        "veg2018 = ee.ImageCollection('MODIS/006/MOD44B').filterBounds(zoomed_out).filterDate('2018-01-01', '2018-12-31').first()\n",
        "veg2000 = ee.ImageCollection('MODIS/006/MOD44B').filterBounds(zoomed_out).filterDate('2000-01-01', '2000-12-31').first()"
      ],
      "execution_count": null,
      "outputs": []
    },
    {
      "cell_type": "code",
      "metadata": {
        "id": "wiqeU-YoxKGW"
      },
      "source": [
        "import folium\n",
        "!pip install geehydro # Life saver for plotting GEE stuff with Python!\n",
        "import geehydro"
      ],
      "execution_count": null,
      "outputs": []
    },
    {
      "cell_type": "code",
      "metadata": {
        "id": "N9qJQHDyZjJq"
      },
      "source": [
        "# Use folium to visualize the imagery.\n",
        "map = folium.Map(location = [18.999768, -71.374124], zoom_start=8)\n",
        "map.addLayer(veg2000, {'gain':2},'2000')\n",
        "map.addLayer(veg2019, {'gain':2}, '2019')\n",
        "map.addLayer(veg2018, {'gain':2},'2018')\n",
        "folium.LayerControl().add_to(map)\n",
        "map"
      ],
      "execution_count": null,
      "outputs": []
    },
    {
      "cell_type": "markdown",
      "metadata": {
        "id": "NCXN54mX4T73"
      },
      "source": [
        "Time series analysis"
      ]
    },
    {
      "cell_type": "code",
      "metadata": {
        "id": "Tz7s8hPqEKTn",
        "outputId": "10cb4c32-53da-424a-94a5-7fd0ce289378",
        "colab": {
          "base_uri": "https://localhost:8080/",
          "height": 183
        }
      },
      "source": [
        "from IPython.display import Image\n",
        "collection = ee.ImageCollection('MODIS/006/MOD44B').filterBounds(zoomed_out)\n",
        "ptc=collection.open(\"Percent_Tree_cover\")"
      ],
      "execution_count": null,
      "outputs": [
        {
          "output_type": "error",
          "ename": "AttributeError",
          "evalue": "ignored",
          "traceback": [
            "\u001b[0;31m---------------------------------------------------------------------------\u001b[0m",
            "\u001b[0;31mAttributeError\u001b[0m                            Traceback (most recent call last)",
            "\u001b[0;32m<ipython-input-97-cec59aca91f8>\u001b[0m in \u001b[0;36m<module>\u001b[0;34m()\u001b[0m\n\u001b[1;32m      1\u001b[0m \u001b[0mcollection\u001b[0m \u001b[0;34m=\u001b[0m \u001b[0mee\u001b[0m\u001b[0;34m.\u001b[0m\u001b[0mImageCollection\u001b[0m\u001b[0;34m(\u001b[0m\u001b[0;34m'MODIS/006/MOD44B'\u001b[0m\u001b[0;34m)\u001b[0m\u001b[0;34m.\u001b[0m\u001b[0mfilterBounds\u001b[0m\u001b[0;34m(\u001b[0m\u001b[0mzoomed_out\u001b[0m\u001b[0;34m)\u001b[0m\u001b[0;34m\u001b[0m\u001b[0;34m\u001b[0m\u001b[0m\n\u001b[0;32m----> 2\u001b[0;31m \u001b[0mptc\u001b[0m\u001b[0;34m=\u001b[0m\u001b[0mcollection\u001b[0m\u001b[0;34m.\u001b[0m\u001b[0mopen\u001b[0m\u001b[0;34m(\u001b[0m\u001b[0;34m\"Percent_Tree_cover\"\u001b[0m\u001b[0;34m)\u001b[0m\u001b[0;34m\u001b[0m\u001b[0;34m\u001b[0m\u001b[0m\n\u001b[0m",
            "\u001b[0;31mAttributeError\u001b[0m: 'ImageCollection' object has no attribute 'open'"
          ]
        }
      ]
    },
    {
      "cell_type": "code",
      "metadata": {
        "id": "f3lDHlOV4QE2",
        "outputId": "645437be-e844-4fbd-e1c4-a3990590a5c2",
        "colab": {
          "base_uri": "https://localhost:8080/",
          "height": 159
        }
      },
      "source": [
        "%matplotlib inline\n",
        "from IPython.display import Image\n",
        "import ee, datetime\n",
        "import pandas as pd\n",
        "from pylab import *\n",
        "from matplotlib.pylab import rcParams\n",
        "\n",
        "collection = ee.ImageCollection('MODIS/006/MOD44B').filterBounds(zoomed_out).select('Percent_NonVegetated')\n",
        "\n",
        "# Define point \n",
        "point = ee.Geometry.Polygon(\n",
        "        [[[-74.60668900677238, 20.088333497505946],\n",
        "          [-74.60668900677238, 17.687361057873034],\n",
        "          [-68.11376908489738, 17.687361057873034],\n",
        "          [-68.11376908489738, 20.088333497505946]]])\n",
        "# Get info from the point\n",
        "\n",
        "\n",
        "\n",
        "info = collection.getRegion((zoomed_out),250000).getInfo() # change colelction by series\n",
        "\n",
        "print(info)\n",
        "\n",
        "# Reshape image collection \n",
        "# Spearate header from data, and store data in an array\n",
        "header = info[0]\n",
        "data = array(info[1:])  #taking from first row to the end\n",
        "\n",
        "# Extract time from data\n",
        "\n",
        "iTime = header.index('time')\n",
        "#creating a list of time points from 0 to final time and storing in variable time\n",
        "time = [datetime.datetime.fromtimestamp(i/1000) for i in (data[0:,iTime].astype(int))]\n",
        "\n",
        "# List of used image bands \n",
        "# band in this is Percent_Tree_Cover\n",
        "band_list = ['Percent_NonVegetated']\n",
        "#take the index of b for eact b in band_list\n",
        "iBands = [header.index(b) for b in band_list]\n",
        "\n",
        "#gonna take all the data for the selected band\n",
        "yData = data[0:,iBands].astype(np.float)\n",
        "#print(yData)\n",
        "\n",
        "#create a variable for evi from data extracted from image and apply a factor \n",
        "ptc = yData[:,0]*0.0001 # USGS specifications: scale factor\n",
        "print(ptc)\n",
        "\n",
        "# Reshape EVI array into Pandas Dataframe\n",
        "df = pd.DataFrame(data=ptc, columns=['Percent_NonVegetated'])\n",
        "#print(df)\n",
        "\n",
        "df['Date'] = pd.Series(time, index=df.index)\n",
        "#print(df)"
      ],
      "execution_count": null,
      "outputs": [
        {
          "output_type": "stream",
          "text": [
            "[['id', 'longitude', 'latitude', 'time', 'Percent_NonVegetated'], ['2000_03_05', -72.98811683471112, 19.089199787539833, 952214400000, 17], ['2001_03_06', -72.98811683471112, 19.089199787539833, 983836800000, 18], ['2002_03_06', -72.98811683471112, 19.089199787539833, 1015372800000, 16], ['2003_03_06', -72.98811683471112, 19.089199787539833, 1046908800000, 18], ['2004_03_05', -72.98811683471112, 19.089199787539833, 1078444800000, 16], ['2005_03_06', -72.98811683471112, 19.089199787539833, 1110067200000, 13], ['2006_03_06', -72.98811683471112, 19.089199787539833, 1141603200000, 15], ['2007_03_06', -72.98811683471112, 19.089199787539833, 1173139200000, 16], ['2008_03_05', -72.98811683471112, 19.089199787539833, 1204675200000, 16], ['2009_03_06', -72.98811683471112, 19.089199787539833, 1236297600000, 17], ['2010_03_06', -72.98811683471112, 19.089199787539833, 1267833600000, 14], ['2011_03_06', -72.98811683471112, 19.089199787539833, 1299369600000, 14], ['2012_03_05', -72.98811683471112, 19.089199787539833, 1330905600000, 19], ['2013_03_06', -72.98811683471112, 19.089199787539833, 1362528000000, 15], ['2014_03_06', -72.98811683471112, 19.089199787539833, 1394064000000, 18], ['2015_03_06', -72.98811683471112, 19.089199787539833, 1425600000000, 20], ['2016_03_05', -72.98811683471112, 19.089199787539833, 1457136000000, 18], ['2017_03_06', -72.98811683471112, 19.089199787539833, 1488758400000, 17], ['2018_03_06', -72.98811683471112, 19.089199787539833, 1520294400000, 16], ['2019_03_06', -72.98811683471112, 19.089199787539833, 1551830400000, 16], ['2000_03_05', -70.74232862441232, 19.089199787539833, 952214400000, 12], ['2001_03_06', -70.74232862441232, 19.089199787539833, 983836800000, 14], ['2002_03_06', -70.74232862441232, 19.089199787539833, 1015372800000, 12], ['2003_03_06', -70.74232862441232, 19.089199787539833, 1046908800000, 10], ['2004_03_05', -70.74232862441232, 19.089199787539833, 1078444800000, 14], ['2005_03_06', -70.74232862441232, 19.089199787539833, 1110067200000, 11], ['2006_03_06', -70.74232862441232, 19.089199787539833, 1141603200000, 11], ['2007_03_06', -70.74232862441232, 19.089199787539833, 1173139200000, 13], ['2008_03_05', -70.74232862441232, 19.089199787539833, 1204675200000, 11], ['2009_03_06', -70.74232862441232, 19.089199787539833, 1236297600000, 11], ['2010_03_06', -70.74232862441232, 19.089199787539833, 1267833600000, 11], ['2011_03_06', -70.74232862441232, 19.089199787539833, 1299369600000, 8], ['2012_03_05', -70.74232862441232, 19.089199787539833, 1330905600000, 16], ['2013_03_06', -70.74232862441232, 19.089199787539833, 1362528000000, 9], ['2014_03_06', -70.74232862441232, 19.089199787539833, 1394064000000, 11], ['2015_03_06', -70.74232862441232, 19.089199787539833, 1425600000000, 18], ['2016_03_05', -70.74232862441232, 19.089199787539833, 1457136000000, 18], ['2017_03_06', -70.74232862441232, 19.089199787539833, 1488758400000, 11], ['2018_03_06', -70.74232862441232, 19.089199787539833, 1520294400000, 13], ['2019_03_06', -70.74232862441232, 19.089199787539833, 1551830400000, 16], ['2000_03_05', -68.49654041411351, 19.089199787539833, 952214400000, 13], ['2001_03_06', -68.49654041411351, 19.089199787539833, 983836800000, 13], ['2002_03_06', -68.49654041411351, 19.089199787539833, 1015372800000, 14], ['2003_03_06', -68.49654041411351, 19.089199787539833, 1046908800000, 15], ['2004_03_05', -68.49654041411351, 19.089199787539833, 1078444800000, 17], ['2005_03_06', -68.49654041411351, 19.089199787539833, 1110067200000, 10], ['2006_03_06', -68.49654041411351, 19.089199787539833, 1141603200000, 12], ['2007_03_06', -68.49654041411351, 19.089199787539833, 1173139200000, 14], ['2008_03_05', -68.49654041411351, 19.089199787539833, 1204675200000, 13], ['2009_03_06', -68.49654041411351, 19.089199787539833, 1236297600000, 15], ['2010_03_06', -68.49654041411351, 19.089199787539833, 1267833600000, 9], ['2011_03_06', -68.49654041411351, 19.089199787539833, 1299369600000, 10], ['2012_03_05', -68.49654041411351, 19.089199787539833, 1330905600000, 16], ['2013_03_06', -68.49654041411351, 19.089199787539833, 1362528000000, 11], ['2014_03_06', -68.49654041411351, 19.089199787539833, 1394064000000, 11], ['2015_03_06', -68.49654041411351, 19.089199787539833, 1425600000000, 19], ['2016_03_05', -68.49654041411351, 19.089199787539833, 1457136000000, 15], ['2017_03_06', -68.49654041411351, 19.089199787539833, 1488758400000, 14], ['2018_03_06', -68.49654041411351, 19.089199787539833, 1520294400000, 15], ['2019_03_06', -68.49654041411351, 19.089199787539833, 1551830400000, 12]]\n",
            "[0.0017 0.0018 0.0016 0.0018 0.0016 0.0013 0.0015 0.0016 0.0016 0.0017\n",
            " 0.0014 0.0014 0.0019 0.0015 0.0018 0.002  0.0018 0.0017 0.0016 0.0016\n",
            " 0.0012 0.0014 0.0012 0.001  0.0014 0.0011 0.0011 0.0013 0.0011 0.0011\n",
            " 0.0011 0.0008 0.0016 0.0009 0.0011 0.0018 0.0018 0.0011 0.0013 0.0016\n",
            " 0.0013 0.0013 0.0014 0.0015 0.0017 0.001  0.0012 0.0014 0.0013 0.0015\n",
            " 0.0009 0.001  0.0016 0.0011 0.0011 0.0019 0.0015 0.0014 0.0015 0.0012]\n"
          ],
          "name": "stdout"
        }
      ]
    },
    {
      "cell_type": "code",
      "metadata": {
        "id": "kpbioGWO75PU",
        "outputId": "9c31f518-4796-4cc1-81aa-744c424cdada",
        "colab": {
          "base_uri": "https://localhost:8080/",
          "height": 367
        }
      },
      "source": [
        "# Plotting\n",
        "\n",
        "rcParams['figure.figsize'] = 15, 6\n",
        "df.plot(y='Percent_NonVegetated',x='Date')\n",
        "plt.show()\n"
      ],
      "execution_count": null,
      "outputs": [
        {
          "output_type": "display_data",
          "data": {
            "image/png": "[encoded data removed]",
            "text/plain": [
              "<Figure size 1080x432 with 1 Axes>"
            ]
          },
          "metadata": {
            "tags": [],
            "needs_background": "light"
          }
        }
      ]
    },
    {
      "cell_type": "markdown",
      "metadata": {
        "id": "PskX8s_OTR-u"
      },
      "source": [
        "# Samual Code"
      ]
    },
    {
      "cell_type": "code",
      "metadata": {
        "id": "jsV1q2WpTh4N",
        "outputId": "29d1d805-ab86-48c8-809a-dc7b5aed974f",
        "colab": {
          "base_uri": "https://localhost:8080/",
          "height": 357
        }
      },
      "source": [
        "import ee \n",
        "import geemap\n",
        "import matplotlib.pyplot as plt\n",
        "import numpy as np"
      ],
      "execution_count": null,
      "outputs": [
        {
          "output_type": "error",
          "ename": "ModuleNotFoundError",
          "evalue": "ignored",
          "traceback": [
            "\u001b[0;31m---------------------------------------------------------------------------\u001b[0m",
            "\u001b[0;31mModuleNotFoundError\u001b[0m                       Traceback (most recent call last)",
            "\u001b[0;32m<ipython-input-49-2a9f61ea8bce>\u001b[0m in \u001b[0;36m<module>\u001b[0;34m()\u001b[0m\n\u001b[1;32m      1\u001b[0m \u001b[0;32mimport\u001b[0m \u001b[0mee\u001b[0m\u001b[0;34m\u001b[0m\u001b[0;34m\u001b[0m\u001b[0m\n\u001b[0;32m----> 2\u001b[0;31m \u001b[0;32mimport\u001b[0m \u001b[0mgeemap\u001b[0m\u001b[0;34m\u001b[0m\u001b[0;34m\u001b[0m\u001b[0m\n\u001b[0m\u001b[1;32m      3\u001b[0m \u001b[0;32mimport\u001b[0m \u001b[0mmatplotlib\u001b[0m\u001b[0;34m.\u001b[0m\u001b[0mpyplot\u001b[0m \u001b[0;32mas\u001b[0m \u001b[0mplt\u001b[0m\u001b[0;34m\u001b[0m\u001b[0;34m\u001b[0m\u001b[0m\n\u001b[1;32m      4\u001b[0m \u001b[0;32mimport\u001b[0m \u001b[0mnumpy\u001b[0m \u001b[0;32mas\u001b[0m \u001b[0mnp\u001b[0m\u001b[0;34m\u001b[0m\u001b[0;34m\u001b[0m\u001b[0m\n",
            "\u001b[0;31mModuleNotFoundError\u001b[0m: No module named 'geemap'",
            "",
            "\u001b[0;31m---------------------------------------------------------------------------\u001b[0;32m\nNOTE: If your import is failing due to a missing package, you can\nmanually install dependencies using either !pip or !apt.\n\nTo view examples of installing some common dependencies, click the\n\"Open Examples\" button below.\n\u001b[0;31m---------------------------------------------------------------------------\u001b[0m\n"
          ]
        }
      ]
    },
    {
      "cell_type": "code",
      "metadata": {
        "id": "MHqiGIszTqJc"
      },
      "source": [
        "# Create a map centred at (lat, lon).\n",
        "Map = geemap.Map(center=[40, -100], zoom=4)"
      ],
      "execution_count": null,
      "outputs": []
    },
    {
      "cell_type": "code",
      "metadata": {
        "id": "J1y9NHWfTs4b"
      },
      "source": [
        "# Display the map.\n",
        "Map"
      ],
      "execution_count": null,
      "outputs": []
    },
    {
      "cell_type": "code",
      "metadata": {
        "id": "x7JdSVTiTxNz"
      },
      "source": [
        "#define the regions we're interested in, and also access landcover information derived from MODIS\n",
        "\n",
        "haiti_region = ee.FeatureCollection('USDOS/LSIB_SIMPLE/2017') \\\n",
        "  .filter(ee.Filter.eq('country_na', 'Haiti'))\n",
        "\n",
        "dr_region = ee.FeatureCollection('USDOS/LSIB_SIMPLE/2017') \\\n",
        "  .filter(ee.Filter.eq('country_na', 'Dominican Republic'))\n",
        "\n",
        "# Load MODIS land cover categories in 2001.\n",
        "landcover = ee.ImageCollection('MODIS/006/MCD12Q1') \\\n",
        "  .select('LC_Type1')"
      ],
      "execution_count": null,
      "outputs": []
    },
    {
      "cell_type": "code",
      "metadata": {
        "id": "kc1rFQ9DT027"
      },
      "source": [
        "#define a colour palette to view landcover data. View all on the map above\n",
        "\n",
        "igbpLandCoverVis = {\n",
        "  'min': 1.0,\n",
        "  'max': 17.0,\n",
        "  'palette': [\n",
        "    '05450a', '086a10', '54a708', '78d203', '009900', 'c6b044', 'dcd159',\n",
        "    'dade48', 'fbff13', 'b6ff05', '27ff87', 'c24f44', 'a5a5a5', 'ff6d4c',\n",
        "    '69fff8', 'f9ffa4', '1c0dff'\n",
        "  ]\n",
        "}\n",
        "    \n",
        "Map.addLayer(landcover, igbpLandCoverVis, 'landcover')\n",
        "Map.addLayer(haiti_region, {'color':'red'}, 'haiti_region')\n",
        "Map.addLayer(dr_region, {'color':'blue'}, 'dr_region')"
      ],
      "execution_count": null,
      "outputs": []
    },
    {
      "cell_type": "code",
      "metadata": {
        "id": "Bt6seL5tT32e"
      },
      "source": [
        "class_images = landcover.select('LC_Type1') #select the landcover band where an integer represents the class\n",
        " #(see https://developers.google.com/earth-engine/datasets/catalog/MODIS_006_MCD12Q1#description)\n",
        "\n",
        "#empty list to store data\n",
        "data = []\n",
        "\n",
        "#go through 19 years of data\n",
        "N = 19\n",
        "for i in range(N):\n",
        "    #access a particular year in the collection of images\n",
        "    class_image = ee.Image(class_images.toList(class_images.size()).get(i))\n",
        "    \n",
        "    #empty array to store data\n",
        "    year_data = np.zeros(18)\n",
        "\n",
        "    #print year of image\n",
        "    print(class_image.get('system:index').getInfo())\n",
        "    \n",
        "    #get area of pixels as a band, perform a reduction so we get the number of pixels for each class for the \n",
        "    #particular year\n",
        "    image = ee.Image.pixelArea().addBands(class_image)\n",
        "    sums = image.reduceRegion(**{\n",
        "          'reducer': ee.Reducer.sum().group(**{\n",
        "            'groupField': 1,\n",
        "            'groupName': 'code',\n",
        "          }),\n",
        "          'geometry': haiti_region.geometry(),\n",
        "          'scale': 500,\n",
        "          'maxPixels': 1e8\n",
        "        })\n",
        "  \n",
        "    #messy way of sorting the dictionary into a nicer structure\n",
        "    class_year_data = sums.getInfo().get('groups')\n",
        "    for class_type in class_year_data:\n",
        "        year_data[class_type['code']] = class_type['sum']\n",
        "                  \n",
        "    data.append(year_data)"
      ],
      "execution_count": null,
      "outputs": []
    },
    {
      "cell_type": "code",
      "metadata": {
        "id": "DaZFR9R5T9sH"
      },
      "source": [
        "#make a stack plot to show lc over time\n",
        "\n",
        "plt.figure(figsize=(12,10))\n",
        "plt.title('landcover over time for Haiti')\n",
        "plt.stackplot(list(range(2001,2001+N)),np.vstack(np.array(data).T))"
      ],
      "execution_count": null,
      "outputs": []
    }
  ]
}